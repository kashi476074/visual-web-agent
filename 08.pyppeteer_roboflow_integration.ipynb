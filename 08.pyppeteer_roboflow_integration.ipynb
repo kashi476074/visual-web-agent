{
  "nbformat": 4,
  "nbformat_minor": 0,
  "metadata": {
    "colab": {
      "provenance": [],
      "authorship_tag": "ABX9TyMPvYAUgyId+x/vZRD3yFKf",
      "include_colab_link": true
    },
    "kernelspec": {
      "name": "python3",
      "display_name": "Python 3"
    },
    "language_info": {
      "name": "python"
    }
  },
  "cells": [
    {
      "cell_type": "markdown",
      "metadata": {
        "id": "view-in-github",
        "colab_type": "text"
      },
      "source": [
        "<a href=\"https://colab.research.google.com/github/temiyemi/visual-web-agent/blob/main/08.pyppeteer_roboflow_integration.ipynb\" target=\"_parent\"><img src=\"https://colab.research.google.com/assets/colab-badge.svg\" alt=\"Open In Colab\"/></a>"
      ]
    },
    {
      "cell_type": "markdown",
      "source": [
        "# Visual Web Agent\n",
        "\n",
        "A web agent to search for a product on Amazon.com, and add the product to cart.\n",
        "\n",
        "Agent uses custom Langchain tools, Gemini 1.5 Flash, Pyppeteer, and a trained object detection model on Roboflow."
      ],
      "metadata": {
        "id": "brJcj0zTLfq2"
      }
    },
    {
      "cell_type": "markdown",
      "source": [
        "### Project Setup\n",
        "\n",
        "Install required dependencies"
      ],
      "metadata": {
        "id": "y99oxK8wLop-"
      }
    },
    {
      "cell_type": "code",
      "execution_count": 1,
      "metadata": {
        "colab": {
          "base_uri": "https://localhost:8080/"
        },
        "id": "QI8v4egfpApQ",
        "outputId": "48983e24-c2de-4a21-f65c-df01e52b99a2"
      },
      "outputs": [
        {
          "output_type": "stream",
          "name": "stdout",
          "text": [
            "\u001b[2K     \u001b[90m━━━━━━━━━━━━━━━━━━━━━━━━━━━━━━━━━━━━━━━━\u001b[0m \u001b[32m82.9/82.9 kB\u001b[0m \u001b[31m1.3 MB/s\u001b[0m eta \u001b[36m0:00:00\u001b[0m\n",
            "\u001b[2K     \u001b[90m━━━━━━━━━━━━━━━━━━━━━━━━━━━━━━━━━━━━━━━━\u001b[0m \u001b[32m143.8/143.8 kB\u001b[0m \u001b[31m5.3 MB/s\u001b[0m eta \u001b[36m0:00:00\u001b[0m\n",
            "\u001b[2K     \u001b[90m━━━━━━━━━━━━━━━━━━━━━━━━━━━━━━━━━━━━━━━━\u001b[0m \u001b[32m106.8/106.8 kB\u001b[0m \u001b[31m6.1 MB/s\u001b[0m eta \u001b[36m0:00:00\u001b[0m\n",
            "\u001b[?25h"
          ]
        }
      ],
      "source": [
        "!pip install -q pyppeteer"
      ]
    },
    {
      "cell_type": "code",
      "source": [
        "!pip install -q roboflow"
      ],
      "metadata": {
        "colab": {
          "base_uri": "https://localhost:8080/"
        },
        "id": "nR4uyFh-pQGG",
        "outputId": "4d795c0c-3a53-4bad-81e3-61bb32c2456a"
      },
      "execution_count": 2,
      "outputs": [
        {
          "output_type": "stream",
          "name": "stdout",
          "text": [
            "\u001b[2K     \u001b[90m━━━━━━━━━━━━━━━━━━━━━━━━━━━━━━━━━━━━━━━━\u001b[0m \u001b[32m74.9/74.9 kB\u001b[0m \u001b[31m2.2 MB/s\u001b[0m eta \u001b[36m0:00:00\u001b[0m\n",
            "\u001b[2K     \u001b[90m━━━━━━━━━━━━━━━━━━━━━━━━━━━━━━━━━━━━━━━━\u001b[0m \u001b[32m158.3/158.3 kB\u001b[0m \u001b[31m8.9 MB/s\u001b[0m eta \u001b[36m0:00:00\u001b[0m\n",
            "\u001b[2K     \u001b[90m━━━━━━━━━━━━━━━━━━━━━━━━━━━━━━━━━━━━━━━━\u001b[0m \u001b[32m178.7/178.7 kB\u001b[0m \u001b[31m18.6 MB/s\u001b[0m eta \u001b[36m0:00:00\u001b[0m\n",
            "\u001b[2K     \u001b[90m━━━━━━━━━━━━━━━━━━━━━━━━━━━━━━━━━━━━━━━━\u001b[0m \u001b[32m58.8/58.8 kB\u001b[0m \u001b[31m6.6 MB/s\u001b[0m eta \u001b[36m0:00:00\u001b[0m\n",
            "\u001b[2K     \u001b[90m━━━━━━━━━━━━━━━━━━━━━━━━━━━━━━━━━━━━━━━━\u001b[0m \u001b[32m49.1/49.1 MB\u001b[0m \u001b[31m11.2 MB/s\u001b[0m eta \u001b[36m0:00:00\u001b[0m\n",
            "\u001b[2K     \u001b[90m━━━━━━━━━━━━━━━━━━━━━━━━━━━━━━━━━━━━━━━━\u001b[0m \u001b[32m54.5/54.5 kB\u001b[0m \u001b[31m5.2 MB/s\u001b[0m eta \u001b[36m0:00:00\u001b[0m\n",
            "\u001b[?25h"
          ]
        }
      ]
    },
    {
      "cell_type": "code",
      "source": [
        "!pip install -q langchain"
      ],
      "metadata": {
        "colab": {
          "base_uri": "https://localhost:8080/"
        },
        "id": "qyYTd8VK6ywn",
        "outputId": "28452956-7e9f-4938-9383-260ec270eb2f"
      },
      "execution_count": 3,
      "outputs": [
        {
          "output_type": "stream",
          "name": "stdout",
          "text": [
            "\u001b[2K     \u001b[90m━━━━━━━━━━━━━━━━━━━━━━━━━━━━━━━━━━━━━━━━\u001b[0m \u001b[32m973.7/973.7 kB\u001b[0m \u001b[31m3.8 MB/s\u001b[0m eta \u001b[36m0:00:00\u001b[0m\n",
            "\u001b[2K     \u001b[90m━━━━━━━━━━━━━━━━━━━━━━━━━━━━━━━━━━━━━━━━\u001b[0m \u001b[32m308.5/308.5 kB\u001b[0m \u001b[31m8.3 MB/s\u001b[0m eta \u001b[36m0:00:00\u001b[0m\n",
            "\u001b[2K     \u001b[90m━━━━━━━━━━━━━━━━━━━━━━━━━━━━━━━━━━━━━━━━\u001b[0m \u001b[32m122.0/122.0 kB\u001b[0m \u001b[31m5.9 MB/s\u001b[0m eta \u001b[36m0:00:00\u001b[0m\n",
            "\u001b[2K     \u001b[90m━━━━━━━━━━━━━━━━━━━━━━━━━━━━━━━━━━━━━━━━\u001b[0m \u001b[32m49.3/49.3 kB\u001b[0m \u001b[31m5.5 MB/s\u001b[0m eta \u001b[36m0:00:00\u001b[0m\n",
            "\u001b[2K     \u001b[90m━━━━━━━━━━━━━━━━━━━━━━━━━━━━━━━━━━━━━━━━\u001b[0m \u001b[32m53.0/53.0 kB\u001b[0m \u001b[31m5.5 MB/s\u001b[0m eta \u001b[36m0:00:00\u001b[0m\n",
            "\u001b[2K     \u001b[90m━━━━━━━━━━━━━━━━━━━━━━━━━━━━━━━━━━━━━━━━\u001b[0m \u001b[32m142.5/142.5 kB\u001b[0m \u001b[31m6.4 MB/s\u001b[0m eta \u001b[36m0:00:00\u001b[0m\n",
            "\u001b[?25h"
          ]
        }
      ]
    },
    {
      "cell_type": "code",
      "source": [
        "!pip install -q google-generativeai langchain-google-genai"
      ],
      "metadata": {
        "id": "dHvBSGk5sufZ"
      },
      "execution_count": 4,
      "outputs": []
    },
    {
      "cell_type": "code",
      "source": [
        "import asyncio\n",
        "import os\n",
        "import uuid\n",
        "\n",
        "from google.colab import userdata\n",
        "from pyppeteer import launch, connect\n",
        "from roboflow import Roboflow"
      ],
      "metadata": {
        "id": "Ewm5q1nxrgyf"
      },
      "execution_count": 5,
      "outputs": []
    },
    {
      "cell_type": "code",
      "source": [
        "GOOGLE_API_KEY = userdata.get(\"GOOGLE_API_KEY\")\n",
        "\n",
        "ROBOFLOW_API_KEY = userdata.get(\"ROBOFLOW_API_KEY\")\n",
        "ROBOFLOW_WORKSPACE = userdata.get(\"ROBOFLOW_WORKSPACE\")\n",
        "MODEL_ENDPOINT = userdata.get(\"MODEL_ENDPOINT\")\n",
        "MODEL_VERSION = userdata.get(\"MODEL_VERSION\")"
      ],
      "metadata": {
        "id": "E9Fa60K7riHY"
      },
      "execution_count": 6,
      "outputs": []
    },
    {
      "cell_type": "code",
      "source": [
        "rf = Roboflow(api_key=ROBOFLOW_API_KEY)\n",
        "project = rf.workspace(ROBOFLOW_WORKSPACE).project(MODEL_ENDPOINT)\n",
        "model = project.version(MODEL_VERSION).model"
      ],
      "metadata": {
        "colab": {
          "base_uri": "https://localhost:8080/"
        },
        "id": "h6OhU8LvsBLm",
        "outputId": "97c33e64-0b9f-4194-af18-46e7e2ea5d82"
      },
      "execution_count": 7,
      "outputs": [
        {
          "output_type": "stream",
          "name": "stdout",
          "text": [
            "loading Roboflow workspace...\n",
            "loading Roboflow project...\n"
          ]
        }
      ]
    },
    {
      "cell_type": "code",
      "source": [
        "HOME = os.getcwd()\n",
        "print(HOME)\n",
        "\n",
        "try:\n",
        "  os.mkdir(path=f\"{HOME}/screenshots\") # for screenshots by pyppeteer\n",
        "  os.mkdir(path=f\"{HOME}/predictions\") # for annotated images from roboflow model\n",
        "except:\n",
        "  print(\"screenshots/predictions folders already exist\")\n",
        "  pass"
      ],
      "metadata": {
        "colab": {
          "base_uri": "https://localhost:8080/"
        },
        "id": "tI_epOaHw7sj",
        "outputId": "57b2bbc4-3871-4033-d643-2f451b4edc5c"
      },
      "execution_count": 12,
      "outputs": [
        {
          "output_type": "stream",
          "name": "stdout",
          "text": [
            "/content\n"
          ]
        }
      ]
    },
    {
      "cell_type": "markdown",
      "source": [
        "### Object Detection Model Section"
      ],
      "metadata": {
        "id": "OXgTBlrZI0QJ"
      }
    },
    {
      "cell_type": "code",
      "source": [
        "def predict_boundaries(image: str, label: str, confidence: int = 40, overlap: int = 30):\n",
        "    \"\"\"make inference for label/s in the image and returns the predictions object\"\"\"\n",
        "\n",
        "    resp = model.predict(image, classes=label, confidence=confidence, overlap=overlap)\n",
        "    new_filepath = image.replace('screenshots', 'predictions')\n",
        "    resp.save(new_filepath) # save the annotated image file\n",
        "    predictions = resp.json()['predictions']\n",
        "    if label:\n",
        "        return list(filter(lambda x: x['class'] == label, predictions))\n",
        "    return predictions\n",
        "\n",
        "\n",
        "def get_bounding_boxes(prediction):\n",
        "    \"\"\"Calculate and return the top left and bottom right x,y coordinates\"\"\"\n",
        "\n",
        "    x1 = prediction['x'] - prediction['width'] / 2\n",
        "    y1 = prediction['y'] - prediction['height'] / 2\n",
        "    x2 = prediction['x'] + prediction['width'] / 2\n",
        "    y2 = prediction['y'] + prediction['height'] / 2\n",
        "    box = (x1, y1, x2, y2)\n",
        "    return box\n"
      ],
      "metadata": {
        "id": "CsHWRlrFsIJU"
      },
      "execution_count": 8,
      "outputs": []
    },
    {
      "cell_type": "markdown",
      "source": [
        "### Pyppeteer Section"
      ],
      "metadata": {
        "id": "XRXsxJP2JFy1"
      }
    },
    {
      "cell_type": "code",
      "source": [
        "async def click_on(page, coordinate):\n",
        "    \"\"\"Extract and use mouse to click on the x,y coordinate of the page\"\"\"\n",
        "\n",
        "    x = coordinate['x']\n",
        "    y = coordinate['y']\n",
        "    await page.mouse.move(x, y)\n",
        "    await page.mouse.click(x, y)\n",
        "\n",
        "\n",
        "async def fill_and_submit(page, product_name: str):\n",
        "    \"\"\"Fill product name in the searchbar and submit form\"\"\"\n",
        "\n",
        "    await page.keyboard.type(product_name, options={'delay': 100})\n",
        "    await asyncio.gather(\n",
        "        page.keyboard.press('Enter'),\n",
        "        page.waitForNavigation(waitUntil='networkidle2')\n",
        "    )\n",
        "\n",
        "\n",
        "async def save_screenshot(page):\n",
        "    \"\"\"Save the screenshot of the page with a unique file name\"\"\"\n",
        "\n",
        "    filename = str(uuid.uuid4())\n",
        "    filepath = f\"{HOME}/screenshots/{filename}.png\"\n",
        "    await page.screenshot(path=filepath)\n",
        "    return filepath\n",
        "\n",
        "\n",
        "async def get_browser_connection_url() -> str:\n",
        "    \"\"\"Launch the browser instance and only return the websocket endpoint\"\"\"\n",
        "\n",
        "    browser = await launch(\n",
        "        ignoreHTTPSErrors=True,\n",
        "        headless=True,\n",
        "        args=[\n",
        "            \"--no-sandbox\",\n",
        "            \"--disable-setuid-sandbox\",\n",
        "            \"--disable-gpu\",\n",
        "            \"--disable-dev-shm-usage\",\n",
        "            '--proxy-server=\"direct://\"',\n",
        "            \"--proxy-bypass-list=*\"\n",
        "        ],\n",
        "        autoClose=False\n",
        "    )\n",
        "\n",
        "    connectionUrl = browser.wsEndpoint\n",
        "    await browser.disconnect()\n",
        "    return connectionUrl\n",
        "\n",
        "\n",
        "async def get_active_browser_and_page(ws_endpoint: str):\n",
        "    \"\"\"Reconnect to existing browser using the websocket endpoint, and\n",
        "    return the browser instance, and the current active page\"\"\"\n",
        "\n",
        "    browser = await connect(\n",
        "        browserWSEndpoint=ws_endpoint,\n",
        "        defaultViewport={'width': 1280, 'height': 800},\n",
        "    )\n",
        "\n",
        "    for page in (await browser.pages()):\n",
        "        await page.bringToFront()\n",
        "\n",
        "    return browser, page\n",
        ""
      ],
      "metadata": {
        "id": "UbIneTRqsTWU"
      },
      "execution_count": 13,
      "outputs": []
    },
    {
      "cell_type": "code",
      "source": [
        "async def browser_phase_one(product: str):\n",
        "    \"\"\"\n",
        "    Open amazon.com, take a screenshot, make searchbar coordinates inference,\n",
        "    click on the searchbar coordinate and type in the product name then press submit,\n",
        "    wait for the search results page to load, take another screenshot.\n",
        "\n",
        "    Return a tuple of the screenshot and the current browser websocket endpoint.\n",
        "    \"\"\"\n",
        "\n",
        "    ws_endpoint = await get_browser_connection_url()\n",
        "\n",
        "    browser = await connect(\n",
        "        browserWSEndpoint=ws_endpoint,\n",
        "        defaultViewport={'width': 1280, 'height': 800},\n",
        "    )\n",
        "\n",
        "    page = await browser.newPage()\n",
        "\n",
        "    # Go to amazon.com homepage\n",
        "    await page.goto(\n",
        "        url='https://www.amazon.com',\n",
        "        options={\n",
        "            'waitUntil': 'networkidle2',\n",
        "        }\n",
        "    )\n",
        "\n",
        "    screenshot = await save_screenshot(page)\n",
        "\n",
        "    # make searchbar inference on the screenshot\n",
        "    coordinates = predict_boundaries(image=screenshot, label='searchbar')\n",
        "\n",
        "    # the searchbar is always coordinates[0]\n",
        "    await click_on(page, coordinate=coordinates[0])\n",
        "\n",
        "    await fill_and_submit(page, product_name=product)\n",
        "\n",
        "    screenshot = await save_screenshot(page)\n",
        "\n",
        "    await browser.disconnect()\n",
        "\n",
        "    return (\n",
        "        ws_endpoint,\n",
        "        screenshot\n",
        "    )"
      ],
      "metadata": {
        "id": "Z8NYK17YsZLB"
      },
      "execution_count": 14,
      "outputs": []
    },
    {
      "cell_type": "code",
      "source": [
        "async def browser_phase_two(ws_endpoint: str, coordinate):\n",
        "    \"\"\"\n",
        "    Re-connect to the browser, and using the existing page, click on the product's\n",
        "    coordinate and wait for the product detail page to load, then take a screenshot.\n",
        "\n",
        "    Return a tuple of the screenshot and the current browser websocket endpoint.\n",
        "    \"\"\"\n",
        "\n",
        "    browser, page = await get_active_browser_and_page(ws_endpoint)\n",
        "\n",
        "    await click_on(page, coordinate=coordinate)\n",
        "    await page.waitForNavigation()\n",
        "\n",
        "    # scroll page down a bit, in case add to cart button is not in viewport\n",
        "    await page.evaluate('window.scroll(0, 300)')\n",
        "\n",
        "    screenshot = await save_screenshot(page)\n",
        "    # for inference of the add to cart button\n",
        "\n",
        "    await browser.disconnect()\n",
        "\n",
        "    return ws_endpoint, screenshot\n",
        "\n",
        "\n",
        "async def browser_phase_three(ws_endpoint: str, coordinate):\n",
        "    \"\"\"\n",
        "    Re-connect to the browser, and using the existing page, click on the add to cart\n",
        "    button coordinate and wait for the next page to load, then take a screenshot.\n",
        "\n",
        "    Return a tuple of the screenshot and the current browser websocket endpoint.\n",
        "    \"\"\"\n",
        "\n",
        "    browser, page = await get_active_browser_and_page(ws_endpoint)\n",
        "\n",
        "    await click_on(page, coordinate=coordinate)\n",
        "    await page.waitForNavigation()\n",
        "\n",
        "    # take screenshot\n",
        "    # get coordinates prediction of the buttons on the page\n",
        "    #\n"
      ],
      "metadata": {
        "id": "9EdH3vUk5hN2"
      },
      "execution_count": null,
      "outputs": []
    },
    {
      "cell_type": "code",
      "source": [
        "# Uncomment to test pyppeteer functions in the notebook environment\n",
        "# loop = asyncio.get_event_loop()\n",
        "# future = asyncio.run_coroutine_threadsafe(browser_phase_one(product=\"braun hair trimmers\"), loop)\n",
        "# future.result()"
      ],
      "metadata": {
        "colab": {
          "base_uri": "https://localhost:8080/"
        },
        "id": "l9eFtxQ6shUZ",
        "outputId": "7622a36d-c8ea-4152-de5e-88719235b885"
      },
      "execution_count": 15,
      "outputs": [
        {
          "output_type": "execute_result",
          "data": {
            "text/plain": [
              "<Future at 0x7a79df37e0b0 state=pending>"
            ]
          },
          "metadata": {},
          "execution_count": 15
        }
      ]
    },
    {
      "cell_type": "markdown",
      "source": [
        "### Langchain Tools / Functions"
      ],
      "metadata": {
        "id": "UiZ-taWq6zW_"
      }
    },
    {
      "cell_type": "code",
      "source": [
        "from langchain_core.messages import HumanMessage\n",
        "from langchain_google_genai import (\n",
        "    ChatGoogleGenerativeAI,\n",
        "    HarmBlockThreshold,\n",
        "    HarmCategory,\n",
        ")\n",
        "from langchain.chains import LLMChain\n",
        "from langchain.prompts import PromptTemplate\n",
        "from langchain.pydantic_v1 import BaseModel, Field\n",
        "from langchain.tools import BaseTool, StructuredTool, tool\n",
        "\n",
        "from IPython.display import Image"
      ],
      "metadata": {
        "id": "AJ78bU_PKIGJ"
      },
      "execution_count": 17,
      "outputs": []
    },
    {
      "cell_type": "code",
      "source": [
        "llm = ChatGoogleGenerativeAI(\n",
        "    model=\"gemini-1.5-flash-latest\",\n",
        "    google_api_key=GOOGLE_API_KEY,\n",
        "    safety_settings={\n",
        "        HarmCategory.HARM_CATEGORY_DANGEROUS_CONTENT: HarmBlockThreshold.BLOCK_NONE,\n",
        "        HarmCategory.HARM_CATEGORY_SEXUALLY_EXPLICIT: HarmBlockThreshold.BLOCK_NONE,\n",
        "        HarmCategory.HARM_CATEGORY_HATE_SPEECH: HarmBlockThreshold.BLOCK_NONE\n",
        "    },\n",
        ")"
      ],
      "metadata": {
        "id": "C4GScKDa7as9"
      },
      "execution_count": 24,
      "outputs": []
    },
    {
      "cell_type": "code",
      "source": [
        "async def aproduct_search_function(product: str):\n",
        "    \"\"\"use pyppeteer to browse Amazon.com and search for product\"\"\"\n",
        "\n",
        "    ws_endpoint, screenshot = await browser_phase_one(product=product)\n",
        "    return ws_endpoint, screenshot\n",
        "\n",
        "product_search_tool = StructuredTool.from_function(\n",
        "    coroutine=aproduct_search_function,\n",
        "    name=\"ProductSearch\",\n",
        "    description=\"use this function to search for a product on Amazon.com\",\n",
        "    handle_tool_error=True,\n",
        ")"
      ],
      "metadata": {
        "id": "Hi4Fze5tKSSJ"
      },
      "execution_count": 29,
      "outputs": []
    },
    {
      "cell_type": "code",
      "source": [
        "# Test the product search tool\n",
        "ws_endpoint, screenshot = await product_search_tool.ainvoke({\"product\": \"braun hair trimmers\"})\n",
        "\n",
        "Image(screenshot)"
      ],
      "metadata": {
        "colab": {
          "base_uri": "https://localhost:8080/",
          "height": 35
        },
        "id": "WC9bYEySfeJe",
        "outputId": "7fbe0d02-963c-47d7-80fc-bf15e812d967"
      },
      "execution_count": 31,
      "outputs": [
        {
          "output_type": "execute_result",
          "data": {
            "text/plain": [
              "'We can absolutely look get /content/screenshots/acf51e77-41a4-42bc-a609-65796b2d73b8.png'"
            ],
            "application/vnd.google.colaboratory.intrinsic+json": {
              "type": "string"
            }
          },
          "metadata": {},
          "execution_count": 31
        }
      ]
    },
    {
      "cell_type": "code",
      "source": [
        "def products_list_function(screenshot: str):\n",
        "    \"\"\"use vlm to read the screenshot and prompt gemini to list the product on\n",
        "    the page, and their corresponding coordinates.\"\"\"\n",
        "\n",
        "    # make product links inference on the screenshot\n",
        "    coordinates = predict_boundaries(\n",
        "        image=screenshot,\n",
        "        label='productlink',\n",
        "        confidence=5,\n",
        "        overlap=5\n",
        "    )\n",
        "\n",
        "    # then prompt the vlm with the json coordinates to get the list of products\n",
        "    # and their corresponding coordinates\n",
        "    message = HumanMessage(\n",
        "    content = [\n",
        "            {\n",
        "                \"type\": \"text\",\n",
        "                \"text\": \"\"\"This is a screenshot of product listing on Amazon.com.\n",
        "                  List the products featured in this image in the order in\n",
        "                  which they appear from left to right. Include the price of each\n",
        "                  product after the name of the product. Do not make up anythin.\"\"\",\n",
        "            },\n",
        "            {\n",
        "                \"type\": \"image_url\",\n",
        "                \"image_url\": screenshot\n",
        "            },\n",
        "        ]\n",
        "    )\n",
        "    resp = llm.invoke([message])\n",
        "    print(resp.content)\n",
        "\n",
        "    # get products and coordinates from the resp.content\n",
        "\n",
        "    return resp.content\n",
        "\n",
        "products_list_tool = StructuredTool.from_function(\n",
        "    func=products_list_function,\n",
        "    name=\"ProductsList\",\n",
        "    description=\"\"\"use this function to get list the products featured in the\n",
        "    screenshot and their coordinates\"\"\",\n",
        "    handle_tool_error=True,\n",
        ")"
      ],
      "metadata": {
        "id": "AnfIQWd06JHY"
      },
      "execution_count": null,
      "outputs": []
    },
    {
      "cell_type": "code",
      "source": [
        "# Test the products list tool\n",
        "products, coordinates = await products_list_tool.invoke({\"screenshot\": \"\"})\n",
        "\n",
        "Image(screenshot)"
      ],
      "metadata": {
        "id": "0D9W_S9IPh-b"
      },
      "execution_count": null,
      "outputs": []
    },
    {
      "cell_type": "markdown",
      "source": [],
      "metadata": {
        "id": "DHcthKD3GTWW"
      }
    },
    {
      "cell_type": "code",
      "source": [
        "message = HumanMessage(\n",
        "    content=[\n",
        "        {\n",
        "            \"type\": \"text\",\n",
        "            \"text\": \"\"\"This is a screenshot of product listing on Amazon.com.\n",
        "               List the products featured in this image in the order in\n",
        "               which they appear from left to right. Include the price of each\n",
        "               product after the name of the product. Do not make up anythin.\"\"\",\n",
        "        },\n",
        "        {\n",
        "            \"type\": \"image_url\",\n",
        "            \"image_url\": image_url\n",
        "        },\n",
        "    ]\n",
        ")\n",
        "resp = llm.invoke([message])\n",
        "print(resp.content)"
      ],
      "metadata": {
        "colab": {
          "base_uri": "https://localhost:8080/"
        },
        "id": "EX666_xb74w0",
        "outputId": "e5ca7902-f393-48ea-9d65-5d89524e75f6"
      },
      "execution_count": 25,
      "outputs": [
        {
          "output_type": "stream",
          "name": "stdout",
          "text": [
            "- Braun All-in-One Style Kit Series 5 5470, 8-in-1 Trimmer for Men with Beard Trimmer, Body... 9 Piece Set $49.99\n",
            "- Braun All-in-One Style Kit Series 3 3430, 3-in-1 Trimmer for Men with Beard Trimmer, Ear &... 5 Piece Set $24.94\n",
            "- Braun All-in-One Style Kit Series 9 9440, 13-in-1 Trimmer for Men with Beard Trimmer, Bo... 13 Piece Set $129.99\n",
            "- Braun All-in-One Style Kit Series 7 7440, 12-in-1 Trimmer for Men with Beard Trimmer, Bo... 13 Piece Set $99.99\n"
          ]
        }
      ]
    }
  ]
}